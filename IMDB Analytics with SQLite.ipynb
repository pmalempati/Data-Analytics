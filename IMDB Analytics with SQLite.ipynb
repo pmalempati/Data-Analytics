{
 "cells": [
  {
   "cell_type": "code",
   "execution_count": 15,
   "metadata": {},
   "outputs": [],
   "source": [
    "import urllib.request, urllib.parse, urllib.error\n",
    "import json"
   ]
  },
  {
   "cell_type": "code",
   "execution_count": 18,
   "metadata": {},
   "outputs": [],
   "source": [
    "with open('APIkeys.json') as f:\n",
    "    keys = json.load(f)\n",
    "    omdbapi='570ddd4f'"
   ]
  },
  {
   "cell_type": "code",
   "execution_count": 19,
   "metadata": {},
   "outputs": [],
   "source": [
    "serviceurl = 'http://www.omdbapi.com/?'\n",
    "apikey = '&apikey='+omdbapi"
   ]
  },
  {
   "cell_type": "code",
   "execution_count": 20,
   "metadata": {},
   "outputs": [],
   "source": [
    "def print_json(json_data):\n",
    "    list_keys=['Title', 'Year', 'Rated', 'Released', 'Runtime', 'Genre', 'Director', 'Writer', \n",
    "               'Actors', 'Plot', 'Language', 'Country', 'Awards', 'Ratings', \n",
    "               'Metascore', 'imdbRating', 'imdbVotes', 'imdbID']\n",
    "    print(\"-\"*50)\n",
    "    for k in list_keys:\n",
    "        if k in list(json_data.keys()):\n",
    "            print(f\"{k}: {json_data[k]}\")\n",
    "    print(\"-\"*50)"
   ]
  },
  {
   "cell_type": "code",
   "execution_count": null,
   "metadata": {},
   "outputs": [],
   "source": [
    "#Download movie poster based on information from json dataset"
   ]
  },
  {
   "cell_type": "code",
   "execution_count": 21,
   "metadata": {},
   "outputs": [],
   "source": [
    "def save_poster(json_data):\n",
    "    import os\n",
    "    title = json_data['Title']\n",
    "    poster_url = json_data['Poster']\n",
    "    # Splits the poster url by '.' and picks up the last string as file extension\n",
    "    poster_file_extension=poster_url.split('.')[-1]\n",
    "    # Reads the image file from web\n",
    "    poster_data = urllib.request.urlopen(poster_url).read()\n",
    "        \n",
    "    savelocation=os.getcwd()+'\\\\'+'Posters'+'\\\\'\n",
    "    # Creates new directory if the directory does not exist. Otherwise, just use the existing path.\n",
    "    if not os.path.isdir(savelocation):\n",
    "        os.mkdir(savelocation)\n",
    "    \n",
    "    filename=savelocation+str(title)+'.'+poster_file_extension\n",
    "    f=open(filename,'wb')\n",
    "    f.write(poster_data)\n",
    "    f.close()"
   ]
  },
  {
   "cell_type": "code",
   "execution_count": 22,
   "metadata": {},
   "outputs": [],
   "source": [
    "#Create local movie database with data retrieved from web"
   ]
  },
  {
   "cell_type": "code",
   "execution_count": 23,
   "metadata": {},
   "outputs": [],
   "source": [
    "def save_in_database(json_data):\n",
    "    \n",
    "    filename = input(\"Please enter a name for the database (extension not needed, it will be added automatically): \")\n",
    "    filename = filename+'.sqlite'\n",
    "    \n",
    "    import sqlite3\n",
    "    conn = sqlite3.connect(str(filename))\n",
    "    cur=conn.cursor()\n",
    "    \n",
    "    title = json_data['Title']\n",
    "    # Goes through the json dataset and extracts information if it is available\n",
    "    if json_data['Year']!='N/A':\n",
    "        year = int(json_data['Year'])\n",
    "    if json_data['Runtime']!='N/A':\n",
    "        runtime = int(json_data['Runtime'].split()[0])\n",
    "    if json_data['Country']!='N/A':\n",
    "        country = json_data['Country']\n",
    "    if json_data['Metascore']!='N/A':\n",
    "        metascore = float(json_data['Metascore'])\n",
    "    else:\n",
    "        metascore=-1\n",
    "    if json_data['imdbRating']!='N/A':\n",
    "        imdb_rating = float(json_data['imdbRating'])\n",
    "    else:\n",
    "        imdb_rating=-1\n",
    "    \n",
    "    # SQL commands\n",
    "    cur.execute('''CREATE TABLE IF NOT EXISTS MovieInfo \n",
    "    (Title TEXT, Year INTEGER, Runtime INTEGER, Country TEXT, Metascore REAL, IMDBRating REAL)''')\n",
    "    \n",
    "    cur.execute('SELECT Title FROM MovieInfo WHERE Title = ? ', (title,))\n",
    "    row = cur.fetchone()\n",
    "    \n",
    "    if row is None:\n",
    "        cur.execute('''INSERT INTO MovieInfo (Title, Year, Runtime, Country, Metascore, IMDBRating)\n",
    "                VALUES (?,?,?,?,?,?)''', (title,year,runtime,country,metascore,imdb_rating))\n",
    "    else:\n",
    "        print(\"Record already found. No update made.\")\n",
    "    \n",
    "    # Commits the change and close the connection to the database\n",
    "    conn.commit()\n",
    "    conn.close()"
   ]
  },
  {
   "cell_type": "code",
   "execution_count": 24,
   "metadata": {},
   "outputs": [],
   "source": [
    "def print_database(database):\n",
    "    \n",
    "    import sqlite3\n",
    "    conn = sqlite3.connect(str(database))\n",
    "    cur=conn.cursor()\n",
    "    \n",
    "    for row in cur.execute('SELECT * FROM MovieInfo'):\n",
    "        print(row)\n",
    "    conn.close()"
   ]
  },
  {
   "cell_type": "code",
   "execution_count": 25,
   "metadata": {},
   "outputs": [],
   "source": [
    "def save_in_excel(filename, database):\n",
    "    \n",
    "    if filename.split('.')[-1]!='xls' and filename.split('.')[-1]!='xlsx':\n",
    "        print (\"Filename does not have correct extension. Please try again\")\n",
    "        return None\n",
    "    \n",
    "    import pandas as pd\n",
    "    import sqlite3\n",
    "    \n",
    "    #df=pd.DataFrame(columns=['Title','Year', 'Runtime', 'Country', 'Metascore', 'IMDB_Rating'])\n",
    "    \n",
    "    conn = sqlite3.connect(str(database))\n",
    "    #cur=conn.cursor()\n",
    "    \n",
    "    df=pd.read_sql_query(\"SELECT * FROM MovieInfo\", conn)\n",
    "    conn.close()\n",
    "    \n",
    "    df.to_excel(filename,sheet_name='Movie Info')"
   ]
  },
  {
   "cell_type": "code",
   "execution_count": 26,
   "metadata": {},
   "outputs": [],
   "source": [
    "def search_movie(title):\n",
    "    if len(title) < 1 or title=='quit': \n",
    "        print(\"Goodbye now...\")\n",
    "        return None\n",
    "\n",
    "    try:\n",
    "        url = serviceurl + urllib.parse.urlencode({'t': title})+apikey\n",
    "        print(f'Retrieving the data of \"{title}\" now... ')\n",
    "        uh = urllib.request.urlopen(url)\n",
    "        data = uh.read()\n",
    "        json_data=json.loads(data)\n",
    "        \n",
    "        if json_data['Response']=='True':\n",
    "            print_json(json_data)\n",
    "            \n",
    "            # Asks user whether to download the poster of the movie\n",
    "            if json_data['Poster']!='N/A':\n",
    "                poster_yes_no=input ('Poster of this movie can be downloaded. Enter \"yes\" or \"no\": ').lower()\n",
    "                if poster_yes_no=='yes':\n",
    "                    save_poster(json_data)\n",
    "            # Asks user whether to save the movie information in a local database\n",
    "            save_database_yes_no=input ('Save the movie info in a local database? Enter \"yes\" or \"no\": ').lower()\n",
    "            if save_database_yes_no=='yes':\n",
    "                save_in_database(json_data)\n",
    "        else:\n",
    "            print(\"Error encountered: \",json_data['Error'])\n",
    "    \n",
    "    except urllib.error.URLError as e:\n",
    "        print(f\"ERROR: {e.reason}\")"
   ]
  },
  {
   "cell_type": "code",
   "execution_count": null,
   "metadata": {},
   "outputs": [],
   "source": [
    "#Search \"Pursuit of Happyness\""
   ]
  },
  {
   "cell_type": "code",
   "execution_count": 30,
   "metadata": {},
   "outputs": [
    {
     "name": "stdout",
     "output_type": "stream",
     "text": [
      "Retrieving the data of \"jumanji\" now... \n",
      "--------------------------------------------------\n",
      "Title: Jumanji\n",
      "Year: 1995\n",
      "Rated: PG\n",
      "Released: 15 Dec 1995\n",
      "Runtime: 104 min\n",
      "Genre: Adventure, Comedy, Family, Fantasy\n",
      "Director: Joe Johnston\n",
      "Writer: Jonathan Hensleigh (screenplay by), Greg Taylor (screenplay by), Jim Strain (screenplay by), Greg Taylor (screen story by), Jim Strain (screen story by), Chris Van Allsburg (screen story by), Chris Van Allsburg (based on the book by)\n",
      "Actors: Robin Williams, Jonathan Hyde, Kirsten Dunst, Bradley Pierce\n",
      "Plot: When two kids find and play a magical board game, they release a man trapped for decades in it and a host of dangers that can only be stopped by finishing the game.\n",
      "Language: English, French\n",
      "Country: USA\n",
      "Awards: 4 wins & 9 nominations.\n",
      "Ratings: [{'Source': 'Internet Movie Database', 'Value': '7.0/10'}, {'Source': 'Rotten Tomatoes', 'Value': '54%'}, {'Source': 'Metacritic', 'Value': '39/100'}]\n",
      "Metascore: 39\n",
      "imdbRating: 7.0\n",
      "imdbVotes: 267,973\n",
      "imdbID: tt0113497\n",
      "--------------------------------------------------\n"
     ]
    }
   ],
   "source": [
    "title = input('\\nEnter the name of a movie (enter \\'quit\\' or hit ENTER to quit): ')\n",
    "if len(title) < 1 or title=='quit': \n",
    "    print(\"Goodbye now...\")\n",
    "else:\n",
    "    search_movie(title)"
   ]
  },
  {
   "cell_type": "code",
   "execution_count": 33,
   "metadata": {},
   "outputs": [],
   "source": [
    "#Print Database"
   ]
  },
  {
   "cell_type": "code",
   "execution_count": 32,
   "metadata": {},
   "outputs": [
    {
     "name": "stdout",
     "output_type": "stream",
     "text": [
      "('Pursuit of Happyness', 2005, 60, 'USA', -1.0, 7.4)\n",
      "('Jumanji', 1995, 104, 'USA', 39.0, 7.0)\n"
     ]
    }
   ],
   "source": [
    "print_database('moviesqlite.sqlite')"
   ]
  },
  {
   "cell_type": "code",
   "execution_count": 34,
   "metadata": {},
   "outputs": [],
   "source": [
    "#Save to Excel and display"
   ]
  },
  {
   "cell_type": "code",
   "execution_count": 36,
   "metadata": {},
   "outputs": [],
   "source": [
    "save_in_excel('test.xlsx','moviesqlite.sqlite')"
   ]
  },
  {
   "cell_type": "code",
   "execution_count": 38,
   "metadata": {},
   "outputs": [
    {
     "data": {
      "text/html": [
       "<div>\n",
       "<style scoped>\n",
       "    .dataframe tbody tr th:only-of-type {\n",
       "        vertical-align: middle;\n",
       "    }\n",
       "\n",
       "    .dataframe tbody tr th {\n",
       "        vertical-align: top;\n",
       "    }\n",
       "\n",
       "    .dataframe thead th {\n",
       "        text-align: right;\n",
       "    }\n",
       "</style>\n",
       "<table border=\"1\" class=\"dataframe\">\n",
       "  <thead>\n",
       "    <tr style=\"text-align: right;\">\n",
       "      <th></th>\n",
       "      <th>Title</th>\n",
       "      <th>Year</th>\n",
       "      <th>Runtime</th>\n",
       "      <th>Country</th>\n",
       "      <th>Metascore</th>\n",
       "      <th>IMDBRating</th>\n",
       "    </tr>\n",
       "  </thead>\n",
       "  <tbody>\n",
       "    <tr>\n",
       "      <th>0</th>\n",
       "      <td>Pursuit of Happyness</td>\n",
       "      <td>2005</td>\n",
       "      <td>60</td>\n",
       "      <td>USA</td>\n",
       "      <td>-1</td>\n",
       "      <td>7.4</td>\n",
       "    </tr>\n",
       "    <tr>\n",
       "      <th>1</th>\n",
       "      <td>Jumanji</td>\n",
       "      <td>1995</td>\n",
       "      <td>104</td>\n",
       "      <td>USA</td>\n",
       "      <td>39</td>\n",
       "      <td>7.0</td>\n",
       "    </tr>\n",
       "  </tbody>\n",
       "</table>\n",
       "</div>"
      ],
      "text/plain": [
       "                  Title  Year  Runtime Country  Metascore  IMDBRating\n",
       "0  Pursuit of Happyness  2005       60     USA         -1         7.4\n",
       "1               Jumanji  1995      104     USA         39         7.0"
      ]
     },
     "execution_count": 38,
     "metadata": {},
     "output_type": "execute_result"
    }
   ],
   "source": [
    "import pandas as pd\n",
    "df=pd.read_excel('test.xlsx')\n",
    "df"
   ]
  },
  {
   "cell_type": "code",
   "execution_count": null,
   "metadata": {},
   "outputs": [],
   "source": []
  }
 ],
 "metadata": {
  "kernelspec": {
   "display_name": "Python 3",
   "language": "python",
   "name": "python3"
  },
  "language_info": {
   "codemirror_mode": {
    "name": "ipython",
    "version": 3
   },
   "file_extension": ".py",
   "mimetype": "text/x-python",
   "name": "python",
   "nbconvert_exporter": "python",
   "pygments_lexer": "ipython3",
   "version": "3.6.5"
  }
 },
 "nbformat": 4,
 "nbformat_minor": 2
}
